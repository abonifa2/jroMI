{
 "metadata": {
  "name": "RandCovVals"
 },
 "nbformat": 3,
 "nbformat_minor": 0,
 "worksheets": [
  {
   "cells": [
    {
     "cell_type": "code",
     "collapsed": false,
     "input": [
      "%pylab inline"
     ],
     "language": "python",
     "metadata": {},
     "outputs": [
      {
       "output_type": "stream",
       "stream": "stdout",
       "text": [
        "\n",
        "Welcome to pylab, a matplotlib-based Python environment [backend: module://IPython.zmq.pylab.backend_inline].\n",
        "For more information, type 'help(pylab)'.\n"
       ]
      }
     ],
     "prompt_number": 1
    },
    {
     "cell_type": "code",
     "collapsed": false,
     "input": [
      "dci = 0.0245    # direction cosine interval\n",
      "\n",
      "ns  = 6         # number of samples\n",
      "\n",
      "# we will have (2*ns+1)*(2*ns+1) reference points. We will seek the covariance value for an intermediate point among these references\n",
      "\n",
      "grid = mgrid[-dci*ns:dci*ns:dci, dci*ns:-dci*ns:-dci] \n",
      "\n",
      "tx = grid[0].T[0]; print tx    #  direction cosines specified in a way that loop will begin from the upper left corner\n",
      "ty = grid[1][0]; print ty"
     ],
     "language": "python",
     "metadata": {},
     "outputs": [
      {
       "output_type": "stream",
       "stream": "stdout",
       "text": [
        "[-0.147  -0.1225 -0.098  -0.0735 -0.049  -0.0245  0.      0.0245  0.049\n",
        "  0.0735  0.098   0.1225  0.147 ]\n",
        "[ 0.147   0.1225  0.098   0.0735  0.049   0.0245  0.     -0.0245 -0.049\n",
        " -0.0735 -0.098  -0.1225 -0.147 ]\n"
       ]
      }
     ],
     "prompt_number": 2
    },
    {
     "cell_type": "code",
     "collapsed": false,
     "input": [
      "import covXYs as covXY\n",
      "geom = covXY.geom\n",
      "covs = covXY.covs\n",
      "import random"
     ],
     "language": "python",
     "metadata": {},
     "outputs": [],
     "prompt_number": 3
    },
    {
     "cell_type": "markdown",
     "metadata": {},
     "source": [
      "Now, we will need to find what covXX (zxx) and covXY (zxy) value we have for any pair of tx-ty listed above. These are also going to be our reference depths (masts of the triangular shaped tent). The solutions will be for one sample of altitude (e.g. h = 60*5= 300 km)."
     ]
    },
    {
     "cell_type": "code",
     "collapsed": false,
     "input": [
      "dr = 5.\n",
      "h  = arange(200)*dr \n",
      "Ne=8.0e12*exp(-h/180.-50.*exp(-h/60.))\n",
      "\n",
      "gran = tx.shape[0];    # grid sample range \n",
      "#s = 0;\n",
      "\n",
      "xyzXX = zeros([2*ns+1,2*ns+1]) # this is going to be our reference matrix (for covXX) giving the references in 3D and\n",
      "xyzXY = zeros([2*ns+1,2*ns+1]) # this is going to be our reference matrix (for covXY) giving the references in 3D\n",
      "\n",
      "#print xyzXX   # to give an idea about how it will be managed\n"
     ],
     "language": "python",
     "metadata": {},
     "outputs": [],
     "prompt_number": 4
    },
    {
     "cell_type": "code",
     "collapsed": false,
     "input": [
      "for ny in range(gran):\n",
      "    \n",
      "    for nx in range(gran):\n",
      "        \n",
      "        px, py, uB, Bo, theta, uphi, uthe = geom(tx[nx],ty[ny],dr)\n",
      "        \n",
      "        #print 'tx-ty pair for ',nx,' and ',ny, 'are : ',tx[nx], ty[ny]\n",
      "        \n",
      "        #s+=1\n",
      "        covXX, covXY = covs(px, py, uB, Bo, theta, uphi, uthe, Ne, h)\n",
      "        \n",
      "        #print 'covXX and covXY are ', covXX[59], covXY[59]\n",
      "        \n",
      "        xyzXX[nx,ny] = covXX[59]\n",
      "        xyzXY[nx,ny] = covXY[59]\n",
      "\n",
      "# Now, our reference covXX and covXY matrices are ready which will help us to find the corresponding \n",
      "# covXX and covXY value of random coordinate within the grid."
     ],
     "language": "python",
     "metadata": {},
     "outputs": [],
     "prompt_number": 5
    },
    {
     "cell_type": "code",
     "collapsed": false,
     "input": [
      "# Let`s determine a random coordinate within the grid\n",
      "\n",
      "txr = random.triangular(min(tx),max(tx),None)\n",
      "tyr = random.triangular(min(ty),max(ty),None)\n",
      "print txr, tyr"
     ],
     "language": "python",
     "metadata": {},
     "outputs": [
      {
       "output_type": "stream",
       "stream": "stdout",
       "text": [
        "0.0064231117942 0.0763825025773\n"
       ]
      }
     ],
     "prompt_number": 6
    },
    {
     "cell_type": "code",
     "collapsed": false,
     "input": [
      "refframe = reshape(vstack([tx,ty]),(2,13))\n",
      "\n",
      "distmax = sqrt((max(tx)-min(tx))**2+(max(ty)-min(ty))**2)\n",
      "distarr = zeros((len(tx),len(ty))) \n",
      "\n",
      "for i in range(len(refframe[0])):\n",
      "    for j in range(len(refframe[1])):\n",
      "        refx,refy = [refframe[0][i],refframe[1][j]]\n",
      "        dist = sqrt((refx - txr)**2 + (refy - tyr)**2)\n",
      "        distarr[i][j] = dist\n",
      "            \n",
      "ravdist = distarr.ravel() \n",
      "ind = ravdist.argsort()\n",
      "mind0 = ind[0]; mind1 = ind[1]; mind2 = ind[2]; \n",
      "row0 = mind0/13; row1 = mind1/13; row2 = mind2/13;\n",
      "col0 = mind0%13; col1 = mind1%13; col2 = mind2%13;\n",
      "print \"Random coord is closest to the ref point 0 in \", row0, \"-\", col0\n",
      "print \"and these correspond to the [tx,ty] -> [\", tx[row0],',', ty[col0], ']'\n",
      "print \"**********\"\n",
      "print \"Random coord is closest to the ref point 1 in \", row1, \"-\", col1\n",
      "print \"and these correspond to the [tx,ty] -> [\", tx[row1],',', ty[col1], ']'\n",
      "print \"**********\"\n",
      "print \"Random coord is closest to the ref point 2 in \", row2, \"-\", col2\n",
      "print \"and these correspond to the [tx,ty] -> [\", tx[row2],',', ty[col2], ']'\n",
      "print \"**********\"\n",
      "orgdist = reshape(ravdist,(13,13))\n",
      "mindist0 = orgdist[row0][col0]\n",
      "mindist1 = orgdist[row1][col1]\n",
      "mindist2 = orgdist[row2][col2]\n",
      "\n",
      "print \"Minimum distance for ref point 0: \", mindist0\n",
      "print \"**********\"\n",
      "print \"Minimum distance for ref point 1: \", mindist1\n",
      "print \"**********\"\n",
      "print \"Minimum distance for ref point 2: \", mindist2\n"
     ],
     "language": "python",
     "metadata": {},
     "outputs": [
      {
       "output_type": "stream",
       "stream": "stdout",
       "text": [
        "Random coord is closest to the ref point 0 in  6 - 3\n",
        "and these correspond to the [tx,ty] -> [ 0.0 , 0.0735 ]\n",
        "**********\n",
        "Random coord is closest to the ref point 1 in  7 - 3\n",
        "and these correspond to the [tx,ty] -> [ 0.0245 , 0.0735 ]\n",
        "**********\n",
        "Random coord is closest to the ref point 2 in  6 - 2\n",
        "and these correspond to the [tx,ty] -> [ 0.0 , 0.098 ]\n",
        "**********\n",
        "Minimum distance for ref point 0:  0.00704025469915\n",
        "**********\n",
        "Minimum distance for ref point 1:  0.0183052644972\n",
        "**********\n",
        "Minimum distance for ref point 2:  0.022551553382\n"
       ]
      }
     ],
     "prompt_number": 7
    },
    {
     "cell_type": "code",
     "collapsed": false,
     "input": [
      "scatter(grid[0],grid[1]); scatter(txr,tyr,color='g')\n",
      "\n",
      "scatter(tx[row0],ty[col0],color='r');scatter(tx[row1],ty[col1],color='r');scatter(tx[row2],ty[col2],color='r');\n",
      "\n",
      "xlim([-0.16,0.16]); ylim([-0.16,0.16]); xlabel('tx'); ylabel('ty'); "
     ],
     "language": "python",
     "metadata": {},
     "outputs": [
      {
       "output_type": "display_data",
       "png": "[encoded data removed]",
       "text": [
        "<matplotlib.figure.Figure at 0x10e2555d0>"
       ]
      }
     ],
     "prompt_number": 8
    },
    {
     "cell_type": "code",
     "collapsed": false,
     "input": [
      "# Pulling out the corresonding CovXX values from the reference table xyzXX prepared in the beginning\n",
      "\n",
      "z0 = xyzXX[row0][col0]; z1 = xyzXX[row1][col1]; z2 = xyzXX[row2][col2] # reference covXX values for h = 300 km.\n",
      "\n",
      "L = sqrt((tx[row2]-tx[row0])**2+(ty[col2]-ty[col0])**2); \n",
      "h = sqrt((tx[row1]-tx[row0])**2+(ty[col1]-ty[col0])**2)"
     ],
     "language": "python",
     "metadata": {},
     "outputs": [],
     "prompt_number": 9
    },
    {
     "cell_type": "code",
     "collapsed": false,
     "input": [
      "# Finally, the covXX value for the random coordinate is calculated as\n",
      "z = z0 + ((z2+z1-2*z0)/(2*L))*txr + ((z2-z1) / (2*h))*tyr"
     ],
     "language": "python",
     "metadata": {},
     "outputs": [],
     "prompt_number": 10
    },
    {
     "cell_type": "code",
     "collapsed": false,
     "input": [
      "print z0\n",
      "print z1\n",
      "print z2\n",
      "print z"
     ],
     "language": "python",
     "metadata": {},
     "outputs": [
      {
       "output_type": "stream",
       "stream": "stdout",
       "text": [
        "0.0219731476734\n",
        "0.031773879143\n",
        "0.00325127287517\n",
        "-0.0236580675857\n"
       ]
      }
     ],
     "prompt_number": 11
    },
    {
     "cell_type": "code",
     "collapsed": false,
     "input": [
      "L"
     ],
     "language": "python",
     "metadata": {},
     "outputs": [
      {
       "output_type": "pyout",
       "prompt_number": 12,
       "text": [
        "0.024500000000000008"
       ]
      }
     ],
     "prompt_number": 12
    },
    {
     "cell_type": "code",
     "collapsed": false,
     "input": [
      "h"
     ],
     "language": "python",
     "metadata": {},
     "outputs": [
      {
       "output_type": "pyout",
       "prompt_number": 13,
       "text": [
        "0.024499999999999994"
       ]
      }
     ],
     "prompt_number": 13
    },
    {
     "cell_type": "code",
     "collapsed": false,
     "input": [],
     "language": "python",
     "metadata": {},
     "outputs": []
    }
   ],
   "metadata": {}
  }
 ]
}